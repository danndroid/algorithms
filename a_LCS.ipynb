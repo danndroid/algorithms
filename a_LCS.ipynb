{
 "cells": [
  {
   "cell_type": "code",
   "execution_count": 5,
   "id": "e30cc860-b057-4539-82c8-4fd549971406",
   "metadata": {},
   "outputs": [],
   "source": [
    "import sys\n",
    "import numpy as np"
   ]
  },
  {
   "cell_type": "code",
   "execution_count": 6,
   "id": "bcf75092-a842-4a00-a32c-be09bacf889e",
   "metadata": {},
   "outputs": [
    {
     "name": "stdout",
     "output_type": "stream",
     "text": [
      "The autoreload extension is already loaded. To reload it, use:\n",
      "  %reload_ext autoreload\n"
     ]
    }
   ],
   "source": [
    "from libs import algorithms as al\n",
    "%load_ext autoreload\n",
    "%autoreload 2\n",
    "from libs import algorithms as al"
   ]
  },
  {
   "cell_type": "code",
   "execution_count": 68,
   "id": "9c72947b-2e1b-472b-bef7-7a2c5deb9b43",
   "metadata": {},
   "outputs": [],
   "source": [
    "a = [10, 22, 9, 33, 21, 50, 41, 60]\n",
    "b = [10,22,9,33,21,50,41,60,80]\n",
    "c = ['A','B','C','B','D','A','B']\n",
    "d = ['B','D','C','A','B','A']"
   ]
  },
  {
   "cell_type": "code",
   "execution_count": 61,
   "id": "dbc6e66a-e7c8-4e35-9044-b385cb4106eb",
   "metadata": {},
   "outputs": [
    {
     "name": "stdout",
     "output_type": "stream",
     "text": [
      "len: 4\n",
      "(7, 6)\n"
     ]
    }
   ],
   "source": [
    "l, b = al.LCS(c,d)\n",
    "print('len:',l)\n",
    "print(b.shape)"
   ]
  },
  {
   "cell_type": "code",
   "execution_count": 64,
   "id": "226cde0a-b7b0-464a-8027-e1b868b2f949",
   "metadata": {},
   "outputs": [
    {
     "data": {
      "text/plain": [
       "array([['u', 'u', 'u', 'd', 'l', 'd'],\n",
       "       ['d', 'l', 'l', 'u', 'd', 'l'],\n",
       "       ['u', 'u', 'd', 'l', 'u', 'u'],\n",
       "       ['d', 'u', 'u', 'u', 'd', 'l'],\n",
       "       ['u', 'd', 'u', 'u', 'u', 'u'],\n",
       "       ['u', 'u', 'u', 'd', 'u', 'd'],\n",
       "       ['d', 'u', 'u', 'u', 'd', 'u']], dtype='<U1')"
      ]
     },
     "execution_count": 64,
     "metadata": {},
     "output_type": "execute_result"
    }
   ],
   "source": [
    "b"
   ]
  },
  {
   "cell_type": "code",
   "execution_count": 67,
   "id": "614e2b04-a39b-446a-b0c7-f236545fd97b",
   "metadata": {},
   "outputs": [
    {
     "name": "stdout",
     "output_type": "stream",
     "text": [
      "(5, 5) A\n",
      "(3, 4) B\n",
      "(2, 2) C\n",
      "(1, 0) B\n"
     ]
    },
    {
     "data": {
      "text/plain": [
       "['A', 'B', 'C', 'B']"
      ]
     },
     "execution_count": 67,
     "metadata": {},
     "output_type": "execute_result"
    }
   ],
   "source": [
    "al.calculate_LCS(b,c,len(c),len(d))"
   ]
  },
  {
   "cell_type": "code",
   "execution_count": null,
   "id": "9a172bf2-e684-4be1-a740-35f3d1cf1bbf",
   "metadata": {},
   "outputs": [],
   "source": []
  }
 ],
 "metadata": {
  "kernelspec": {
   "display_name": "Python 3",
   "language": "python",
   "name": "python3"
  },
  "language_info": {
   "codemirror_mode": {
    "name": "ipython",
    "version": 3
   },
   "file_extension": ".py",
   "mimetype": "text/x-python",
   "name": "python",
   "nbconvert_exporter": "python",
   "pygments_lexer": "ipython3",
   "version": "3.9.0"
  }
 },
 "nbformat": 4,
 "nbformat_minor": 5
}
