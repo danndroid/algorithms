{
 "cells": [
  {
   "cell_type": "code",
   "execution_count": 1,
   "id": "e30cc860-b057-4539-82c8-4fd549971406",
   "metadata": {},
   "outputs": [],
   "source": [
    "import sys\n",
    "import numpy as np"
   ]
  },
  {
   "cell_type": "code",
   "execution_count": 2,
   "id": "bcf75092-a842-4a00-a32c-be09bacf889e",
   "metadata": {},
   "outputs": [],
   "source": [
    "from libs import algorithms as al\n",
    "%load_ext autoreload\n",
    "%autoreload 2\n",
    "from libs import algorithms as al"
   ]
  },
  {
   "cell_type": "code",
   "execution_count": 123,
   "id": "9c72947b-2e1b-472b-bef7-7a2c5deb9b43",
   "metadata": {},
   "outputs": [],
   "source": [
    "a = [10, 22, 9, 33, 21, 50, 41, 60]\n",
    "b = [10,22,9,33,21,50,41,60,80]\n",
    "\n",
    "c1 = [ 1, 2, -1, 0, 3, 8, 5]\n",
    "c2 = [0, 3, 7, 8, 13]\n",
    "c3 = [ 5, 2, -1, 0, 3, 8, 5]"
   ]
  },
  {
   "cell_type": "code",
   "execution_count": 18,
   "id": "285ebe67-a6f1-4662-9291-739606fef727",
   "metadata": {},
   "outputs": [
    {
     "data": {
      "text/plain": [
       "array([ 0,  3,  7,  8, 13])"
      ]
     },
     "execution_count": 18,
     "metadata": {},
     "output_type": "execute_result"
    }
   ],
   "source": [
    "np.sort(c2)"
   ]
  },
  {
   "cell_type": "code",
   "execution_count": null,
   "id": "75173ded-616d-40a8-b40c-e16947229175",
   "metadata": {},
   "outputs": [],
   "source": []
  },
  {
   "cell_type": "code",
   "execution_count": null,
   "id": "a3e94fe3-ed7f-451e-a4bd-584e42716de1",
   "metadata": {},
   "outputs": [],
   "source": []
  },
  {
   "cell_type": "code",
   "execution_count": 99,
   "id": "8912feb9-7e18-4a43-861a-e34bdf14d322",
   "metadata": {},
   "outputs": [
    {
     "name": "stdout",
     "output_type": "stream",
     "text": [
      "[1, 2, -1, 0, 3, 8, 5]\n",
      "  [1, -3, 1, 3, 5, -3]\n"
     ]
    }
   ],
   "source": [
    "X = c1\n",
    "print(X)\n",
    "Y = []\n",
    "for i in np.arange(1, len(X)):\n",
    "    y = X[i] - X[i-1]\n",
    "    Y.append(y)\n",
    "print(' ',Y)"
   ]
  },
  {
   "cell_type": "code",
   "execution_count": 100,
   "id": "8c6f0205-9e35-4767-a422-dbca94935549",
   "metadata": {},
   "outputs": [
    {
     "name": "stdout",
     "output_type": "stream",
     "text": [
      "[-3 -3  1  1  3  5]\n"
     ]
    }
   ],
   "source": [
    "Ys = np.sort(Y)\n",
    "print(Ys)"
   ]
  },
  {
   "cell_type": "code",
   "execution_count": 101,
   "id": "dbc6e66a-e7c8-4e35-9044-b385cb4106eb",
   "metadata": {},
   "outputs": [
    {
     "name": "stdout",
     "output_type": "stream",
     "text": [
      "Len: 4\n",
      "(6, 6)\n"
     ]
    }
   ],
   "source": [
    "l, b = al.LCS(Y, Ys)\n",
    "print('Len:',l)\n",
    "print(b.shape)"
   ]
  },
  {
   "cell_type": "code",
   "execution_count": 102,
   "id": "614e2b04-a39b-446a-b0c7-f236545fd97b",
   "metadata": {},
   "outputs": [
    {
     "name": "stdout",
     "output_type": "stream",
     "text": [
      "(4, 5) 5\n",
      "(3, 4) 3\n",
      "(2, 3) 1\n",
      "(0, 2) 1\n"
     ]
    },
    {
     "data": {
      "text/plain": [
       "([0, 2, 3, 4], [1, 1, 3, 5])"
      ]
     },
     "execution_count": 102,
     "metadata": {},
     "output_type": "execute_result"
    }
   ],
   "source": [
    "idx, lcs = al.calculate_LCS(b,Y,len(Y),len(Y))\n",
    "idx, lcs"
   ]
  },
  {
   "cell_type": "code",
   "execution_count": 103,
   "id": "9c1ebaaf-4962-4df7-b647-4f04d4b3e1c1",
   "metadata": {},
   "outputs": [
    {
     "data": {
      "text/plain": [
       "array([1, 3, 4, 5])"
      ]
     },
     "execution_count": 103,
     "metadata": {},
     "output_type": "execute_result"
    }
   ],
   "source": [
    "idx = np.array(idx) + 1\n",
    "idx"
   ]
  },
  {
   "cell_type": "code",
   "execution_count": 104,
   "id": "9a172bf2-e684-4be1-a740-35f3d1cf1bbf",
   "metadata": {},
   "outputs": [
    {
     "data": {
      "text/plain": [
       "array([2, 0, 3, 8])"
      ]
     },
     "execution_count": 104,
     "metadata": {},
     "output_type": "execute_result"
    }
   ],
   "source": [
    "np.array(X)[idx]"
   ]
  },
  {
   "cell_type": "code",
   "execution_count": null,
   "id": "cf6276b8-c1af-44c0-b1fb-ed7b7f33e08e",
   "metadata": {},
   "outputs": [],
   "source": []
  },
  {
   "cell_type": "code",
   "execution_count": null,
   "id": "3b069a51-c71e-4e98-a90c-db1ac6d66cac",
   "metadata": {},
   "outputs": [],
   "source": []
  },
  {
   "cell_type": "code",
   "execution_count": 124,
   "id": "384a82c7-174b-4119-a865-3053672964c8",
   "metadata": {},
   "outputs": [
    {
     "name": "stdout",
     "output_type": "stream",
     "text": [
      "[5, 2, -1, 0, 3, 8, 5]\n",
      "  [-3, -3, 1, 3, 5, -3]\n"
     ]
    }
   ],
   "source": [
    "X = c3\n",
    "print(X)\n",
    "Y = []\n",
    "for i in np.arange(1, len(X)):\n",
    "    y = X[i] - X[i-1]\n",
    "    Y.append(y)\n",
    "print(' ',Y)"
   ]
  },
  {
   "cell_type": "code",
   "execution_count": 125,
   "id": "89115b69-88c6-478f-b19e-81cba1a92168",
   "metadata": {},
   "outputs": [
    {
     "name": "stdout",
     "output_type": "stream",
     "text": [
      "[-3 -3 -3  1  3  5]\n"
     ]
    }
   ],
   "source": [
    "Ys = np.sort(Y)\n",
    "print(Ys)"
   ]
  },
  {
   "cell_type": "code",
   "execution_count": 126,
   "id": "7912fca0-1293-46aa-8b0b-752525e4e924",
   "metadata": {},
   "outputs": [
    {
     "name": "stdout",
     "output_type": "stream",
     "text": [
      "Len: 5\n",
      "(6, 6)\n"
     ]
    }
   ],
   "source": [
    "l, b = al.LCS(Y, Ys)\n",
    "print('Len:',l)\n",
    "print(b.shape)"
   ]
  },
  {
   "cell_type": "code",
   "execution_count": 127,
   "id": "778936c8-193a-4007-bef7-791143472b7f",
   "metadata": {},
   "outputs": [
    {
     "name": "stdout",
     "output_type": "stream",
     "text": [
      "(4, 5) 5\n",
      "(3, 4) 3\n",
      "(2, 3) 1\n",
      "(1, 2) -3\n",
      "(0, 1) -3\n"
     ]
    },
    {
     "data": {
      "text/plain": [
       "([0, 1, 2, 3, 4], [-3, -3, 1, 3, 5])"
      ]
     },
     "execution_count": 127,
     "metadata": {},
     "output_type": "execute_result"
    }
   ],
   "source": [
    "idx, lcs = al.calculate_LCS(b,Y,len(Y),len(Y))\n",
    "idx, lcs"
   ]
  },
  {
   "cell_type": "code",
   "execution_count": 128,
   "id": "91d72ddc-2309-49f0-b384-ce1d9ec0e01d",
   "metadata": {},
   "outputs": [
    {
     "data": {
      "text/plain": [
       "array([1, 2, 3, 4, 5])"
      ]
     },
     "execution_count": 128,
     "metadata": {},
     "output_type": "execute_result"
    }
   ],
   "source": [
    "idx = np.array(idx) + 1\n",
    "idx"
   ]
  },
  {
   "cell_type": "code",
   "execution_count": 129,
   "id": "4ed28a93-31b5-434e-abda-5b200c2e25dc",
   "metadata": {},
   "outputs": [
    {
     "data": {
      "text/plain": [
       "array([ 2, -1,  0,  3,  8])"
      ]
     },
     "execution_count": 129,
     "metadata": {},
     "output_type": "execute_result"
    }
   ],
   "source": [
    "np.array(X)[idx]"
   ]
  },
  {
   "cell_type": "code",
   "execution_count": null,
   "id": "b6c3255d-7d73-4c3d-9e7f-5ffb706a4af9",
   "metadata": {},
   "outputs": [],
   "source": []
  },
  {
   "cell_type": "code",
   "execution_count": null,
   "id": "e81ad528-401a-4765-87f0-c5ad44e709ef",
   "metadata": {},
   "outputs": [],
   "source": []
  },
  {
   "cell_type": "code",
   "execution_count": null,
   "id": "9a8c6c27-ea3a-4b23-bf46-6f04fa5297f2",
   "metadata": {},
   "outputs": [],
   "source": []
  },
  {
   "cell_type": "code",
   "execution_count": null,
   "id": "8245d34c-c995-4287-afc8-00b9af32aa30",
   "metadata": {},
   "outputs": [],
   "source": []
  },
  {
   "cell_type": "code",
   "execution_count": null,
   "id": "fb1d1308-e3d5-48fd-87e9-f2da848ac6da",
   "metadata": {},
   "outputs": [],
   "source": []
  },
  {
   "cell_type": "code",
   "execution_count": 92,
   "id": "c6e8aa98-8907-4705-97fa-1bc9b39f366c",
   "metadata": {},
   "outputs": [
    {
     "name": "stdout",
     "output_type": "stream",
     "text": [
      "[0, 3, 7, 8, 13]\n",
      "  [3, 4, 1, 5]\n"
     ]
    }
   ],
   "source": [
    "X = c2\n",
    "print(X)\n",
    "Y = []\n",
    "for i in np.arange(1, len(X)):\n",
    "    y = X[i] - X[i-1]\n",
    "    Y.append(y)\n",
    "print(' ',Y)"
   ]
  },
  {
   "cell_type": "code",
   "execution_count": 93,
   "id": "18f9e3a5-17c8-482e-8aa6-d507fda3c061",
   "metadata": {},
   "outputs": [
    {
     "name": "stdout",
     "output_type": "stream",
     "text": [
      "[1 3 4 5]\n"
     ]
    }
   ],
   "source": [
    "Ys = np.sort(Y)\n",
    "print(Ys)"
   ]
  },
  {
   "cell_type": "code",
   "execution_count": 78,
   "id": "3b812f8a-d2f5-4e0b-8782-d2430f8d4c01",
   "metadata": {},
   "outputs": [
    {
     "name": "stdout",
     "output_type": "stream",
     "text": [
      "Len: 3\n",
      "(4, 4)\n"
     ]
    }
   ],
   "source": [
    "l, b = al.LCS(Y, Ys)\n",
    "print('Len:',l)\n",
    "print(b.shape)"
   ]
  },
  {
   "cell_type": "code",
   "execution_count": 79,
   "id": "1215c25d-df56-42df-9b28-375de14e858e",
   "metadata": {},
   "outputs": [
    {
     "name": "stdout",
     "output_type": "stream",
     "text": [
      "(3, 3) 5\n",
      "(1, 2) 4\n",
      "(0, 1) 3\n"
     ]
    },
    {
     "data": {
      "text/plain": [
       "([0, 1, 3], [3, 4, 5])"
      ]
     },
     "execution_count": 79,
     "metadata": {},
     "output_type": "execute_result"
    }
   ],
   "source": [
    "idx, lcs = al.calculate_LCS(b,Y,len(Y),len(Y))\n",
    "idx, lcs"
   ]
  },
  {
   "cell_type": "code",
   "execution_count": 80,
   "id": "db0f948c-11e9-4896-a6ba-8e186d833ef8",
   "metadata": {},
   "outputs": [
    {
     "data": {
      "text/plain": [
       "array([1, 2, 4])"
      ]
     },
     "execution_count": 80,
     "metadata": {},
     "output_type": "execute_result"
    }
   ],
   "source": [
    "idx = np.array(idx) + 1\n",
    "idx"
   ]
  },
  {
   "cell_type": "code",
   "execution_count": 69,
   "id": "a6124b84-e16e-488d-8270-6ed6f453e90d",
   "metadata": {},
   "outputs": [
    {
     "data": {
      "text/plain": [
       "array([ 3,  7, 13])"
      ]
     },
     "execution_count": 69,
     "metadata": {},
     "output_type": "execute_result"
    }
   ],
   "source": [
    "np.array(X)[idx]"
   ]
  },
  {
   "cell_type": "code",
   "execution_count": null,
   "id": "ab2c2959-4531-4f4a-b1c7-58fee763c7b0",
   "metadata": {},
   "outputs": [],
   "source": []
  }
 ],
 "metadata": {
  "kernelspec": {
   "display_name": "Python 3",
   "language": "python",
   "name": "python3"
  },
  "language_info": {
   "codemirror_mode": {
    "name": "ipython",
    "version": 3
   },
   "file_extension": ".py",
   "mimetype": "text/x-python",
   "name": "python",
   "nbconvert_exporter": "python",
   "pygments_lexer": "ipython3",
   "version": "3.9.0"
  }
 },
 "nbformat": 4,
 "nbformat_minor": 5
}
